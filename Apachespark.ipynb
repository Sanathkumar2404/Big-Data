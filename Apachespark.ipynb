{
 "cells": [
  {
   "cell_type": "markdown",
   "id": "b3e9a0a9",
   "metadata": {},
   "source": [
    "#### Reference\n",
    "https://sparkbyexamples.com/spark/spark-dataframe-where-filter/"
   ]
  },
  {
   "cell_type": "code",
   "execution_count": 1,
   "id": "1ce29f0e",
   "metadata": {},
   "outputs": [],
   "source": [
    "import pyspark    #Importing pyspark"
   ]
  },
  {
   "cell_type": "code",
   "execution_count": 2,
   "id": "2155d698",
   "metadata": {},
   "outputs": [
    {
     "name": "stderr",
     "output_type": "stream",
     "text": [
      "22/10/20 19:25:16 WARN Utils: Your hostname, Vinays-MacBook-Air.local resolves to a loopback address: 127.0.0.1; using 10.200.79.196 instead (on interface en0)\n",
      "22/10/20 19:25:16 WARN Utils: Set SPARK_LOCAL_IP if you need to bind to another address\n",
      "WARNING: An illegal reflective access operation has occurred\n",
      "WARNING: Illegal reflective access by org.apache.spark.unsafe.Platform (file:/Users/vinaykota/opt/anaconda3/lib/python3.9/site-packages/pyspark/jars/spark-unsafe_2.12-3.1.2.jar) to constructor java.nio.DirectByteBuffer(long,int)\n",
      "WARNING: Please consider reporting this to the maintainers of org.apache.spark.unsafe.Platform\n",
      "WARNING: Use --illegal-access=warn to enable warnings of further illegal reflective access operations\n",
      "WARNING: All illegal access operations will be denied in a future release\n",
      "22/10/20 19:25:16 WARN NativeCodeLoader: Unable to load native-hadoop library for your platform... using builtin-java classes where applicable\n",
      "Using Spark's default log4j profile: org/apache/spark/log4j-defaults.properties\n",
      "Setting default log level to \"WARN\".\n",
      "To adjust logging level use sc.setLogLevel(newLevel). For SparkR, use setLogLevel(newLevel).\n",
      "22/10/20 19:25:18 WARN Utils: Service 'SparkUI' could not bind on port 4040. Attempting port 4041.\n"
     ]
    }
   ],
   "source": [
    "from pyspark.sql import SparkSession                #Creating session\n",
    "spark = SparkSession.builder.getOrCreate()"
   ]
  },
  {
   "cell_type": "markdown",
   "id": "b25fc909",
   "metadata": {},
   "source": [
    "#### Defining the schema"
   ]
  },
  {
   "cell_type": "code",
   "execution_count": 3,
   "id": "f3f107e7",
   "metadata": {},
   "outputs": [],
   "source": [
    "from pyspark.sql.types import (StructType,                          \n",
    "                                StructField, \n",
    "                                DateType, \n",
    "                                BooleanType,\n",
    "                                DoubleType,\n",
    "                                IntegerType,\n",
    "                                StringType,\n",
    "                               TimestampType)\n",
    "\n",
    "\n",
    "Chicago_schema = StructType([StructField('ID', StringType(), True),\n",
    "                            StructField('CaseNumber', StringType(), True),\n",
    "                            StructField('Date', StringType(), True ),\n",
    "                            StructField('Block', StringType(), True),\n",
    "                            StructField('IUCR', StringType(), True),\n",
    "                            StructField('PrimaryType', StringType(), True  ),\n",
    "                            StructField('Description', StringType(), True ),\n",
    "                            StructField('LocationDescription', StringType(), True ),\n",
    "                            StructField('Arrest', BooleanType(), True),\n",
    "                            StructField('Domestic', BooleanType(), True),\n",
    "                            StructField('Beat', StringType(), True),\n",
    "                            StructField('District', StringType(), True),\n",
    "                            StructField('Ward', StringType(), True),\n",
    "                            StructField('Community Area', StringType(), True),\n",
    "                            StructField('FBICode', StringType(), True ),\n",
    "                            StructField('X_Coordinate', DoubleType(), True),\n",
    "                            StructField('Y_Coordinate', DoubleType(), True ),\n",
    "                            StructField('Year', IntegerType(), True),\n",
    "                            StructField('UpdatedOn', DateType(), True ),\n",
    "                            StructField('Latitude', DoubleType(), True),\n",
    "                            StructField('Longitude', DoubleType(), True),\n",
    "                            StructField('Location', StringType(), True )\n",
    "                            ])"
   ]
  },
  {
   "cell_type": "markdown",
   "id": "e3f505c8",
   "metadata": {},
   "source": [
    "#### Loading Chicago Dataset"
   ]
  },
  {
   "cell_type": "code",
   "execution_count": 4,
   "id": "6463c5f4",
   "metadata": {},
   "outputs": [],
   "source": [
    "Chicago_df = spark.read.csv(\"Crimes_-_2001_to_Present.csv\",\n",
    "                       header = True, \n",
    "                        schema = Chicago_schema)"
   ]
  },
  {
   "cell_type": "code",
   "execution_count": 5,
   "id": "11c4b360",
   "metadata": {},
   "outputs": [
    {
     "name": "stderr",
     "output_type": "stream",
     "text": [
      "                                                                                \r"
     ]
    },
    {
     "data": {
      "text/plain": [
       "7651597"
      ]
     },
     "execution_count": 5,
     "metadata": {},
     "output_type": "execute_result"
    }
   ],
   "source": [
    "Chicago_df.count()"
   ]
  },
  {
   "cell_type": "code",
   "execution_count": 6,
   "id": "ca7a8705",
   "metadata": {},
   "outputs": [
    {
     "name": "stdout",
     "output_type": "stream",
     "text": [
      "+--------+----------+--------------------+--------------------+----+------------------+--------------------+--------------------+------+--------+----+--------+----+--------------+-------+------------+------------+----+---------+------------+-------------+--------------------+\n",
      "|      ID|CaseNumber|                Date|               Block|IUCR|       PrimaryType|         Description| LocationDescription|Arrest|Domestic|Beat|District|Ward|Community Area|FBICode|X_Coordinate|Y_Coordinate|Year|UpdatedOn|    Latitude|    Longitude|            Location|\n",
      "+--------+----------+--------------------+--------------------+----+------------------+--------------------+--------------------+------+--------+----+--------+----+--------------+-------+------------+------------+----+---------+------------+-------------+--------------------+\n",
      "|10224738|  HY411648|09/05/2015 01:30:...|     043XX S WOOD ST|0486|           BATTERY|DOMESTIC BATTERY ...|           RESIDENCE| false|    true|0924|     009|  12|            61|    08B|   1165074.0|   1875917.0|2015|     null|41.815117282|-87.669999562|(41.815117282, -8...|\n",
      "|10224739|  HY411615|09/04/2015 11:30:...| 008XX N CENTRAL AVE|0870|             THEFT|      POCKET-PICKING|             CTA BUS| false|   false|1511|     015|  29|            25|     06|   1138875.0|   1904869.0|2015|     null|41.895080471|-87.765400451|(41.895080471, -8...|\n",
      "|11646166|  JC213529|09/01/2018 12:01:...|082XX S INGLESIDE...|0810|             THEFT|           OVER $500|           RESIDENCE| false|    true|0631|     006|   8|            44|     06|        null|        null|2018|     null|        null|         null|                null|\n",
      "|10224740|  HY411595|09/05/2015 12:45:...|   035XX W BARRY AVE|2023|         NARCOTICS|POSS: HEROIN(BRN/...|            SIDEWALK|  true|   false|1412|     014|  35|            21|     18|   1152037.0|   1920384.0|2015|     null|41.937405765|-87.716649687|(41.937405765, -8...|\n",
      "|10224741|  HY411610|09/05/2015 01:00:...| 0000X N LARAMIE AVE|0560|           ASSAULT|              SIMPLE|           APARTMENT| false|    true|1522|     015|  28|            25|    08A|   1141706.0|   1900086.0|2015|     null|41.881903443|-87.755121152|(41.881903443, -8...|\n",
      "|10224742|  HY411435|09/05/2015 10:55:...| 082XX S LOOMIS BLVD|0610|          BURGLARY|      FORCIBLE ENTRY|           RESIDENCE| false|   false|0614|     006|  21|            71|     05|   1168430.0|   1850165.0|2015|     null|41.744378879|-87.658430635|(41.744378879, -8...|\n",
      "|10224743|  HY411629|09/04/2015 06:00:...|021XX W CHURCHILL ST|0620|          BURGLARY|      UNLAWFUL ENTRY|    RESIDENCE-GARAGE| false|   false|1434|     014|  32|            24|     05|   1161628.0|   1912157.0|2015|     null|41.914635603|-87.681630909|(41.914635603, -8...|\n",
      "|10224744|  HY411605|09/05/2015 01:00:...|   025XX W CERMAK RD|0860|             THEFT|        RETAIL THEFT|  GROCERY FOOD STORE|  true|   false|1034|     010|  25|            31|     06|   1159734.0|   1889313.0|2015|     null|41.851988885|-87.689219118|(41.851988885, -8...|\n",
      "|10224745|  HY411654|09/05/2015 11:30:...|031XX W WASHINGTO...|0320|           ROBBERY|STRONGARM - NO WE...|              STREET| false|    true|1222|     012|  27|            27|     03|   1155536.0|   1900515.0|2015|     null| 41.88281374|-87.704325717|(41.88281374, -87...|\n",
      "|11645836|  JC212333|05/01/2016 12:25:...| 055XX S ROCKWELL ST|1153|DECEPTIVE PRACTICE|FINANCIAL IDENTIT...|                null| false|   false|0824|     008|  15|            63|     11|        null|        null|2016|     null|        null|         null|                null|\n",
      "|10224746|  HY411662|09/05/2015 02:00:...|  071XX S PULASKI RD|0820|             THEFT|      $500 AND UNDER|PARKING LOT/GARAG...| false|   false|0833|     008|  13|            65|     06|   1150938.0|   1857056.0|2015|     null|41.763647552|-87.722344693|(41.763647552, -8...|\n",
      "|10224749|  HY411626|09/05/2015 11:00:...|052XX N MILWAUKEE...|0460|           BATTERY|              SIMPLE|  SMALL RETAIL STORE| false|   false|1623|     016|  45|            11|    08B|   1137969.0|   1934340.0|2015|     null|41.975968415|-87.768014257|(41.975968415, -8...|\n",
      "|10224750|  HY411632|09/05/2015 03:00:...|    0000X W 103RD ST|2820|     OTHER OFFENSE|    TELEPHONE THREAT|           APARTMENT| false|    true|0512|     005|  34|            49|     26|   1177871.0|   1836676.0|2015|     null|41.707154919|-87.624244993|(41.707154919, -8...|\n",
      "|10224751|  HY411566|09/05/2015 12:50:...|     013XX E 47TH ST|0486|           BATTERY|DOMESTIC BATTERY ...|              STREET| false|    true|0222|     002|   4|            39|    08B|   1185907.0|   1874105.0|2015|     null|41.809678314|-87.593638934|(41.809678314, -8...|\n",
      "|10224752|  HY411601|09/03/2015 01:00:...| 020XX W SCHILLER ST|0810|             THEFT|           OVER $500|              STREET| false|   false|1424|     014|   1|            24|     06|   1162574.0|   1909428.0|2015|     null|41.907127255|-87.678232016|(41.907127255, -8...|\n",
      "|10224753|  HY411489|09/05/2015 11:45:...|  080XX S JUSTINE ST|0497|           BATTERY|AGGRAVATED DOMEST...|           APARTMENT| false|   false|0612|     006|  21|            71|    04B|   1167400.0|   1851512.0|2015|     null|41.748097343|-87.662166183|(41.748097343, -8...|\n",
      "|10224754|  HY411656|09/05/2015 01:30:...|007XX N LEAMINGTO...|1320|   CRIMINAL DAMAGE|          TO VEHICLE|              STREET| false|   false|1531|     015|  28|            25|     14|   1141889.0|   1904448.0|2015|     null|41.893869916|-87.754341096|(41.893869916, -8...|\n",
      "|10224756|  HY410094|07/08/2015 12:00:...|103XX S TORRENCE AVE|0620|          BURGLARY|      UNLAWFUL ENTRY|               OTHER| false|   false|0434|     004|  10|            51|     05|   1195508.0|   1836950.0|2015|     null|41.707490122|-87.559650325|(41.707490122, -8...|\n",
      "|10224757|  HY411388|09/05/2015 09:55:...|  088XX S PAULINA ST|0610|          BURGLARY|      FORCIBLE ENTRY|           RESIDENCE|  true|   false|2221|     022|  21|            71|     05|   1166554.0|   1846067.0|2015|     null|41.733173536|-87.665421067|(41.733173536, -8...|\n",
      "|10224758|  HY411568|09/05/2015 12:35:...|    059XX W GRACE ST|0486|           BATTERY|DOMESTIC BATTERY ...|              STREET| false|    true|1633|     016|  38|            15|    08B|   1136014.0|   1924656.0|2015|     null|41.949429769|-87.775435529|(41.949429769, -8...|\n",
      "+--------+----------+--------------------+--------------------+----+------------------+--------------------+--------------------+------+--------+----+--------+----+--------------+-------+------------+------------+----+---------+------------+-------------+--------------------+\n",
      "only showing top 20 rows\n",
      "\n"
     ]
    },
    {
     "name": "stderr",
     "output_type": "stream",
     "text": [
      "22/10/20 19:25:28 WARN CSVHeaderChecker: CSV header does not conform to the schema.\n",
      " Header: ID, Case Number, Date, Block, IUCR, Primary Type, Description, Location Description, Arrest, Domestic, Beat, District, Ward, Community Area, FBI Code, X Coordinate, Y Coordinate, Year, Updated On, Latitude, Longitude, Location\n",
      " Schema: ID, CaseNumber, Date, Block, IUCR, PrimaryType, Description, LocationDescription, Arrest, Domestic, Beat, District, Ward, Community Area, FBICode, X_Coordinate, Y_Coordinate, Year, UpdatedOn, Latitude, Longitude, Location\n",
      "Expected: CaseNumber but found: Case Number\n",
      "CSV file: file:///Users/vinaykota/Downloads/Crimes_-_2001_to_Present.csv\n"
     ]
    }
   ],
   "source": [
    "Chicago_df.show()"
   ]
  },
  {
   "cell_type": "code",
   "execution_count": 7,
   "id": "18666754",
   "metadata": {},
   "outputs": [
    {
     "data": {
      "text/plain": [
       "['ID',\n",
       " 'CaseNumber',\n",
       " 'Date',\n",
       " 'Block',\n",
       " 'IUCR',\n",
       " 'PrimaryType',\n",
       " 'Description',\n",
       " 'LocationDescription',\n",
       " 'Arrest',\n",
       " 'Domestic',\n",
       " 'Beat',\n",
       " 'District',\n",
       " 'Ward',\n",
       " 'Community Area',\n",
       " 'FBICode',\n",
       " 'X_Coordinate',\n",
       " 'Y_Coordinate',\n",
       " 'Year',\n",
       " 'UpdatedOn',\n",
       " 'Latitude',\n",
       " 'Longitude',\n",
       " 'Location']"
      ]
     },
     "execution_count": 7,
     "metadata": {},
     "output_type": "execute_result"
    }
   ],
   "source": [
    "Chicago_df.columns"
   ]
  },
  {
   "cell_type": "markdown",
   "id": "c973ae94",
   "metadata": {},
   "source": [
    "#### Changing 'Date' column data type"
   ]
  },
  {
   "cell_type": "code",
   "execution_count": 8,
   "id": "3a6af169",
   "metadata": {},
   "outputs": [],
   "source": [
    "from datetime import datetime\n",
    "from pyspark.sql.functions import col,udf\n",
    "\n",
    "function =  udf(lambda x: datetime.strptime(x, '%m/%d/%Y %I:%M:%S %p'), TimestampType())\n",
    "Chicago_df1 = Chicago_df.withColumn('Date', function(col('Date')))\n",
    "\n",
    "# Chicago_df1.select(Chicago_df1[\"Date\"]).show(10)"
   ]
  },
  {
   "cell_type": "code",
   "execution_count": 9,
   "id": "40719f08",
   "metadata": {},
   "outputs": [
    {
     "data": {
      "text/plain": [
       "[('ID', 'string'),\n",
       " ('CaseNumber', 'string'),\n",
       " ('Date', 'timestamp'),\n",
       " ('Block', 'string'),\n",
       " ('IUCR', 'string'),\n",
       " ('PrimaryType', 'string'),\n",
       " ('Description', 'string'),\n",
       " ('LocationDescription', 'string'),\n",
       " ('Arrest', 'boolean'),\n",
       " ('Domestic', 'boolean'),\n",
       " ('Beat', 'string'),\n",
       " ('District', 'string'),\n",
       " ('Ward', 'string'),\n",
       " ('Community Area', 'string'),\n",
       " ('FBICode', 'string'),\n",
       " ('X_Coordinate', 'double'),\n",
       " ('Y_Coordinate', 'double'),\n",
       " ('Year', 'int'),\n",
       " ('UpdatedOn', 'date'),\n",
       " ('Latitude', 'double'),\n",
       " ('Longitude', 'double'),\n",
       " ('Location', 'string')]"
      ]
     },
     "execution_count": 9,
     "metadata": {},
     "output_type": "execute_result"
    }
   ],
   "source": [
    "Chicago_df1.dtypes"
   ]
  },
  {
   "cell_type": "markdown",
   "id": "71063853",
   "metadata": {},
   "source": [
    "#### Dropping Null Values"
   ]
  },
  {
   "cell_type": "code",
   "execution_count": 10,
   "id": "24ba16dc",
   "metadata": {},
   "outputs": [
    {
     "data": {
      "text/plain": [
       "DataFrame[ID: string, CaseNumber: string, Date: string, Block: string, IUCR: string, PrimaryType: string, Description: string, LocationDescription: string, Arrest: boolean, Domestic: boolean, Beat: string, District: string, Ward: string, Community Area: string, FBICode: string, X_Coordinate: double, Y_Coordinate: double, Year: int, UpdatedOn: date, Latitude: double, Longitude: double, Location: string]"
      ]
     },
     "execution_count": 10,
     "metadata": {},
     "output_type": "execute_result"
    }
   ],
   "source": [
    "Chicago_df.na.drop()"
   ]
  },
  {
   "cell_type": "markdown",
   "id": "d3b50ea4",
   "metadata": {},
   "source": [
    "#### Filtering the data for last ten years."
   ]
  },
  {
   "cell_type": "code",
   "execution_count": 11,
   "id": "c1e83a2a",
   "metadata": {},
   "outputs": [
    {
     "name": "stderr",
     "output_type": "stream",
     "text": [
      "22/10/20 19:25:29 WARN CSVHeaderChecker: CSV header does not conform to the schema.\n",
      " Header: ID, Case Number, Date, Block, IUCR, Primary Type, Description, Location Description, Arrest, Domestic, Beat, District, Ward, Community Area, FBI Code, X Coordinate, Y Coordinate, Year, Updated On, Latitude, Longitude, Location\n",
      " Schema: ID, CaseNumber, Date, Block, IUCR, PrimaryType, Description, LocationDescription, Arrest, Domestic, Beat, District, Ward, Community Area, FBICode, X_Coordinate, Y_Coordinate, Year, UpdatedOn, Latitude, Longitude, Location\n",
      "Expected: CaseNumber but found: Case Number\n",
      "CSV file: file:///Users/vinaykota/Downloads/Crimes_-_2001_to_Present.csv\n"
     ]
    },
    {
     "name": "stdout",
     "output_type": "stream",
     "text": [
      "+--------+----------+--------------------+--------------------+----+------------------+--------------------+--------------------+------+--------+----+--------+----+--------------+-------+------------+------------+----+---------+------------+-------------+--------------------+\n",
      "|      ID|CaseNumber|                Date|               Block|IUCR|       PrimaryType|         Description| LocationDescription|Arrest|Domestic|Beat|District|Ward|Community Area|FBICode|X_Coordinate|Y_Coordinate|Year|UpdatedOn|    Latitude|    Longitude|            Location|\n",
      "+--------+----------+--------------------+--------------------+----+------------------+--------------------+--------------------+------+--------+----+--------+----+--------------+-------+------------+------------+----+---------+------------+-------------+--------------------+\n",
      "|10224738|  HY411648|09/05/2015 01:30:...|     043XX S WOOD ST|0486|           BATTERY|DOMESTIC BATTERY ...|           RESIDENCE| false|    true|0924|     009|  12|            61|    08B|   1165074.0|   1875917.0|2015|     null|41.815117282|-87.669999562|(41.815117282, -8...|\n",
      "|10224739|  HY411615|09/04/2015 11:30:...| 008XX N CENTRAL AVE|0870|             THEFT|      POCKET-PICKING|             CTA BUS| false|   false|1511|     015|  29|            25|     06|   1138875.0|   1904869.0|2015|     null|41.895080471|-87.765400451|(41.895080471, -8...|\n",
      "|11646166|  JC213529|09/01/2018 12:01:...|082XX S INGLESIDE...|0810|             THEFT|           OVER $500|           RESIDENCE| false|    true|0631|     006|   8|            44|     06|        null|        null|2018|     null|        null|         null|                null|\n",
      "|10224740|  HY411595|09/05/2015 12:45:...|   035XX W BARRY AVE|2023|         NARCOTICS|POSS: HEROIN(BRN/...|            SIDEWALK|  true|   false|1412|     014|  35|            21|     18|   1152037.0|   1920384.0|2015|     null|41.937405765|-87.716649687|(41.937405765, -8...|\n",
      "|10224741|  HY411610|09/05/2015 01:00:...| 0000X N LARAMIE AVE|0560|           ASSAULT|              SIMPLE|           APARTMENT| false|    true|1522|     015|  28|            25|    08A|   1141706.0|   1900086.0|2015|     null|41.881903443|-87.755121152|(41.881903443, -8...|\n",
      "|10224742|  HY411435|09/05/2015 10:55:...| 082XX S LOOMIS BLVD|0610|          BURGLARY|      FORCIBLE ENTRY|           RESIDENCE| false|   false|0614|     006|  21|            71|     05|   1168430.0|   1850165.0|2015|     null|41.744378879|-87.658430635|(41.744378879, -8...|\n",
      "|10224743|  HY411629|09/04/2015 06:00:...|021XX W CHURCHILL ST|0620|          BURGLARY|      UNLAWFUL ENTRY|    RESIDENCE-GARAGE| false|   false|1434|     014|  32|            24|     05|   1161628.0|   1912157.0|2015|     null|41.914635603|-87.681630909|(41.914635603, -8...|\n",
      "|10224744|  HY411605|09/05/2015 01:00:...|   025XX W CERMAK RD|0860|             THEFT|        RETAIL THEFT|  GROCERY FOOD STORE|  true|   false|1034|     010|  25|            31|     06|   1159734.0|   1889313.0|2015|     null|41.851988885|-87.689219118|(41.851988885, -8...|\n",
      "|10224745|  HY411654|09/05/2015 11:30:...|031XX W WASHINGTO...|0320|           ROBBERY|STRONGARM - NO WE...|              STREET| false|    true|1222|     012|  27|            27|     03|   1155536.0|   1900515.0|2015|     null| 41.88281374|-87.704325717|(41.88281374, -87...|\n",
      "|11645836|  JC212333|05/01/2016 12:25:...| 055XX S ROCKWELL ST|1153|DECEPTIVE PRACTICE|FINANCIAL IDENTIT...|                null| false|   false|0824|     008|  15|            63|     11|        null|        null|2016|     null|        null|         null|                null|\n",
      "|10224746|  HY411662|09/05/2015 02:00:...|  071XX S PULASKI RD|0820|             THEFT|      $500 AND UNDER|PARKING LOT/GARAG...| false|   false|0833|     008|  13|            65|     06|   1150938.0|   1857056.0|2015|     null|41.763647552|-87.722344693|(41.763647552, -8...|\n",
      "|10224749|  HY411626|09/05/2015 11:00:...|052XX N MILWAUKEE...|0460|           BATTERY|              SIMPLE|  SMALL RETAIL STORE| false|   false|1623|     016|  45|            11|    08B|   1137969.0|   1934340.0|2015|     null|41.975968415|-87.768014257|(41.975968415, -8...|\n",
      "|10224750|  HY411632|09/05/2015 03:00:...|    0000X W 103RD ST|2820|     OTHER OFFENSE|    TELEPHONE THREAT|           APARTMENT| false|    true|0512|     005|  34|            49|     26|   1177871.0|   1836676.0|2015|     null|41.707154919|-87.624244993|(41.707154919, -8...|\n",
      "|10224751|  HY411566|09/05/2015 12:50:...|     013XX E 47TH ST|0486|           BATTERY|DOMESTIC BATTERY ...|              STREET| false|    true|0222|     002|   4|            39|    08B|   1185907.0|   1874105.0|2015|     null|41.809678314|-87.593638934|(41.809678314, -8...|\n",
      "|10224752|  HY411601|09/03/2015 01:00:...| 020XX W SCHILLER ST|0810|             THEFT|           OVER $500|              STREET| false|   false|1424|     014|   1|            24|     06|   1162574.0|   1909428.0|2015|     null|41.907127255|-87.678232016|(41.907127255, -8...|\n",
      "|10224753|  HY411489|09/05/2015 11:45:...|  080XX S JUSTINE ST|0497|           BATTERY|AGGRAVATED DOMEST...|           APARTMENT| false|   false|0612|     006|  21|            71|    04B|   1167400.0|   1851512.0|2015|     null|41.748097343|-87.662166183|(41.748097343, -8...|\n",
      "|10224754|  HY411656|09/05/2015 01:30:...|007XX N LEAMINGTO...|1320|   CRIMINAL DAMAGE|          TO VEHICLE|              STREET| false|   false|1531|     015|  28|            25|     14|   1141889.0|   1904448.0|2015|     null|41.893869916|-87.754341096|(41.893869916, -8...|\n",
      "|10224756|  HY410094|07/08/2015 12:00:...|103XX S TORRENCE AVE|0620|          BURGLARY|      UNLAWFUL ENTRY|               OTHER| false|   false|0434|     004|  10|            51|     05|   1195508.0|   1836950.0|2015|     null|41.707490122|-87.559650325|(41.707490122, -8...|\n",
      "|10224757|  HY411388|09/05/2015 09:55:...|  088XX S PAULINA ST|0610|          BURGLARY|      FORCIBLE ENTRY|           RESIDENCE|  true|   false|2221|     022|  21|            71|     05|   1166554.0|   1846067.0|2015|     null|41.733173536|-87.665421067|(41.733173536, -8...|\n",
      "|10224758|  HY411568|09/05/2015 12:35:...|    059XX W GRACE ST|0486|           BATTERY|DOMESTIC BATTERY ...|              STREET| false|    true|1633|     016|  38|            15|    08B|   1136014.0|   1924656.0|2015|     null|41.949429769|-87.775435529|(41.949429769, -8...|\n",
      "+--------+----------+--------------------+--------------------+----+------------------+--------------------+--------------------+------+--------+----+--------+----+--------------+-------+------------+------------+----+---------+------------+-------------+--------------------+\n",
      "only showing top 20 rows\n",
      "\n"
     ]
    }
   ],
   "source": [
    "Chicago_df.where(\"Year>2012\").show()"
   ]
  },
  {
   "cell_type": "markdown",
   "id": "203b12bf",
   "metadata": {},
   "source": [
    " #### Remove all the records with the following crime types:\n",
    "'NON-CRIMINAL (SUBJECT SPECIFIED)'\n",
    "'OTHER OFFENSE'\n",
    "'STALKING'\n",
    "'NON - CRIMINAL'\n",
    "'ARSON'"
   ]
  },
  {
   "cell_type": "code",
   "execution_count": 12,
   "id": "71401213",
   "metadata": {},
   "outputs": [
    {
     "name": "stdout",
     "output_type": "stream",
     "text": [
      "+--------+----------+--------------------+--------------------+----+------------------+--------------------+--------------------+------+--------+----+--------+----+--------------+-------+------------+------------+----+---------+------------+-------------+--------------------+\n",
      "|      ID|CaseNumber|                Date|               Block|IUCR|       PrimaryType|         Description| LocationDescription|Arrest|Domestic|Beat|District|Ward|Community Area|FBICode|X_Coordinate|Y_Coordinate|Year|UpdatedOn|    Latitude|    Longitude|            Location|\n",
      "+--------+----------+--------------------+--------------------+----+------------------+--------------------+--------------------+------+--------+----+--------+----+--------------+-------+------------+------------+----+---------+------------+-------------+--------------------+\n",
      "|10224738|  HY411648|09/05/2015 01:30:...|     043XX S WOOD ST|0486|           BATTERY|DOMESTIC BATTERY ...|           RESIDENCE| false|    true|0924|     009|  12|            61|    08B|   1165074.0|   1875917.0|2015|     null|41.815117282|-87.669999562|(41.815117282, -8...|\n",
      "|10224739|  HY411615|09/04/2015 11:30:...| 008XX N CENTRAL AVE|0870|             THEFT|      POCKET-PICKING|             CTA BUS| false|   false|1511|     015|  29|            25|     06|   1138875.0|   1904869.0|2015|     null|41.895080471|-87.765400451|(41.895080471, -8...|\n",
      "|11646166|  JC213529|09/01/2018 12:01:...|082XX S INGLESIDE...|0810|             THEFT|           OVER $500|           RESIDENCE| false|    true|0631|     006|   8|            44|     06|        null|        null|2018|     null|        null|         null|                null|\n",
      "|10224740|  HY411595|09/05/2015 12:45:...|   035XX W BARRY AVE|2023|         NARCOTICS|POSS: HEROIN(BRN/...|            SIDEWALK|  true|   false|1412|     014|  35|            21|     18|   1152037.0|   1920384.0|2015|     null|41.937405765|-87.716649687|(41.937405765, -8...|\n",
      "|10224741|  HY411610|09/05/2015 01:00:...| 0000X N LARAMIE AVE|0560|           ASSAULT|              SIMPLE|           APARTMENT| false|    true|1522|     015|  28|            25|    08A|   1141706.0|   1900086.0|2015|     null|41.881903443|-87.755121152|(41.881903443, -8...|\n",
      "|10224742|  HY411435|09/05/2015 10:55:...| 082XX S LOOMIS BLVD|0610|          BURGLARY|      FORCIBLE ENTRY|           RESIDENCE| false|   false|0614|     006|  21|            71|     05|   1168430.0|   1850165.0|2015|     null|41.744378879|-87.658430635|(41.744378879, -8...|\n",
      "|10224743|  HY411629|09/04/2015 06:00:...|021XX W CHURCHILL ST|0620|          BURGLARY|      UNLAWFUL ENTRY|    RESIDENCE-GARAGE| false|   false|1434|     014|  32|            24|     05|   1161628.0|   1912157.0|2015|     null|41.914635603|-87.681630909|(41.914635603, -8...|\n",
      "|10224744|  HY411605|09/05/2015 01:00:...|   025XX W CERMAK RD|0860|             THEFT|        RETAIL THEFT|  GROCERY FOOD STORE|  true|   false|1034|     010|  25|            31|     06|   1159734.0|   1889313.0|2015|     null|41.851988885|-87.689219118|(41.851988885, -8...|\n",
      "|10224745|  HY411654|09/05/2015 11:30:...|031XX W WASHINGTO...|0320|           ROBBERY|STRONGARM - NO WE...|              STREET| false|    true|1222|     012|  27|            27|     03|   1155536.0|   1900515.0|2015|     null| 41.88281374|-87.704325717|(41.88281374, -87...|\n",
      "|11645836|  JC212333|05/01/2016 12:25:...| 055XX S ROCKWELL ST|1153|DECEPTIVE PRACTICE|FINANCIAL IDENTIT...|                null| false|   false|0824|     008|  15|            63|     11|        null|        null|2016|     null|        null|         null|                null|\n",
      "|10224746|  HY411662|09/05/2015 02:00:...|  071XX S PULASKI RD|0820|             THEFT|      $500 AND UNDER|PARKING LOT/GARAG...| false|   false|0833|     008|  13|            65|     06|   1150938.0|   1857056.0|2015|     null|41.763647552|-87.722344693|(41.763647552, -8...|\n",
      "|10224749|  HY411626|09/05/2015 11:00:...|052XX N MILWAUKEE...|0460|           BATTERY|              SIMPLE|  SMALL RETAIL STORE| false|   false|1623|     016|  45|            11|    08B|   1137969.0|   1934340.0|2015|     null|41.975968415|-87.768014257|(41.975968415, -8...|\n",
      "|10224751|  HY411566|09/05/2015 12:50:...|     013XX E 47TH ST|0486|           BATTERY|DOMESTIC BATTERY ...|              STREET| false|    true|0222|     002|   4|            39|    08B|   1185907.0|   1874105.0|2015|     null|41.809678314|-87.593638934|(41.809678314, -8...|\n",
      "|10224752|  HY411601|09/03/2015 01:00:...| 020XX W SCHILLER ST|0810|             THEFT|           OVER $500|              STREET| false|   false|1424|     014|   1|            24|     06|   1162574.0|   1909428.0|2015|     null|41.907127255|-87.678232016|(41.907127255, -8...|\n",
      "|10224753|  HY411489|09/05/2015 11:45:...|  080XX S JUSTINE ST|0497|           BATTERY|AGGRAVATED DOMEST...|           APARTMENT| false|   false|0612|     006|  21|            71|    04B|   1167400.0|   1851512.0|2015|     null|41.748097343|-87.662166183|(41.748097343, -8...|\n",
      "|10224754|  HY411656|09/05/2015 01:30:...|007XX N LEAMINGTO...|1320|   CRIMINAL DAMAGE|          TO VEHICLE|              STREET| false|   false|1531|     015|  28|            25|     14|   1141889.0|   1904448.0|2015|     null|41.893869916|-87.754341096|(41.893869916, -8...|\n",
      "|10224756|  HY410094|07/08/2015 12:00:...|103XX S TORRENCE AVE|0620|          BURGLARY|      UNLAWFUL ENTRY|               OTHER| false|   false|0434|     004|  10|            51|     05|   1195508.0|   1836950.0|2015|     null|41.707490122|-87.559650325|(41.707490122, -8...|\n",
      "|10224757|  HY411388|09/05/2015 09:55:...|  088XX S PAULINA ST|0610|          BURGLARY|      FORCIBLE ENTRY|           RESIDENCE|  true|   false|2221|     022|  21|            71|     05|   1166554.0|   1846067.0|2015|     null|41.733173536|-87.665421067|(41.733173536, -8...|\n",
      "|10224758|  HY411568|09/05/2015 12:35:...|    059XX W GRACE ST|0486|           BATTERY|DOMESTIC BATTERY ...|              STREET| false|    true|1633|     016|  38|            15|    08B|   1136014.0|   1924656.0|2015|     null|41.949429769|-87.775435529|(41.949429769, -8...|\n",
      "|10224759|  HY411581|09/04/2015 10:30:...|    100XX S AVENUE L|1320|   CRIMINAL DAMAGE|          TO VEHICLE|              STREET| false|   false|0432|     004|  10|            52|     14|   1201814.0|   1839027.0|2015|     null|41.713031786|-87.536487809|(41.713031786, -8...|\n",
      "+--------+----------+--------------------+--------------------+----+------------------+--------------------+--------------------+------+--------+----+--------+----+--------------+-------+------------+------------+----+---------+------------+-------------+--------------------+\n",
      "only showing top 20 rows\n",
      "\n"
     ]
    },
    {
     "name": "stderr",
     "output_type": "stream",
     "text": [
      "22/10/20 19:25:30 WARN CSVHeaderChecker: CSV header does not conform to the schema.\n",
      " Header: ID, Case Number, Date, Block, IUCR, Primary Type, Description, Location Description, Arrest, Domestic, Beat, District, Ward, Community Area, FBI Code, X Coordinate, Y Coordinate, Year, Updated On, Latitude, Longitude, Location\n",
      " Schema: ID, CaseNumber, Date, Block, IUCR, PrimaryType, Description, LocationDescription, Arrest, Domestic, Beat, District, Ward, Community Area, FBICode, X_Coordinate, Y_Coordinate, Year, UpdatedOn, Latitude, Longitude, Location\n",
      "Expected: CaseNumber but found: Case Number\n",
      "CSV file: file:///Users/vinaykota/Downloads/Crimes_-_2001_to_Present.csv\n"
     ]
    }
   ],
   "source": [
    "Chicago_df=Chicago_df.where(Chicago_df['PrimaryType']!=\"OTHER OFFENSE\")\n",
    "Chicago_df=Chicago_df.where(Chicago_df['PrimaryType']!='NON-CRIMINAL (SUBJECT SPECIFIED)')\n",
    "Chicago_df=Chicago_df.where(Chicago_df['PrimaryType']!=\"STALKING\")\n",
    "Chicago_df=Chicago_df.where(Chicago_df['PrimaryType']!='NON - CRIMINAL')\n",
    "Chicago_df=Chicago_df.where(Chicago_df['PrimaryType']!='ARSON')\n",
    "Chicago_df.show()"
   ]
  },
  {
   "cell_type": "markdown",
   "id": "ef48407d",
   "metadata": {},
   "source": [
    "#### Merging the similar crime types"
   ]
  },
  {
   "cell_type": "code",
   "execution_count": 13,
   "id": "6e7c835d",
   "metadata": {},
   "outputs": [
    {
     "name": "stderr",
     "output_type": "stream",
     "text": [
      "22/10/20 19:25:31 WARN CSVHeaderChecker: CSV header does not conform to the schema.\n",
      " Header: Primary Type\n",
      " Schema: PrimaryType\n",
      "Expected: PrimaryType but found: Primary Type\n",
      "CSV file: file:///Users/vinaykota/Downloads/Crimes_-_2001_to_Present.csv\n",
      "                                                                                \r"
     ]
    },
    {
     "name": "stdout",
     "output_type": "stream",
     "text": [
      "+---------------------------------+\n",
      "|PrimaryType                      |\n",
      "+---------------------------------+\n",
      "|OFFENSE INVOLVING CHILDREN       |\n",
      "|CRIMINAL SEXUAL ASSAULT          |\n",
      "|PUBLIC PEACE VIOLATION           |\n",
      "|OBSCENITY                        |\n",
      "|DOMESTIC VIOLENCE                |\n",
      "|GAMBLING                         |\n",
      "|CRIMINAL TRESPASS                |\n",
      "|ASSAULT                          |\n",
      "|LIQUOR LAW VIOLATION             |\n",
      "|MOTOR VEHICLE THEFT              |\n",
      "|THEFT                            |\n",
      "|BATTERY                          |\n",
      "|ROBBERY                          |\n",
      "|HOMICIDE                         |\n",
      "|RITUALISM                        |\n",
      "|PUBLIC INDECENCY                 |\n",
      "|CRIM SEXUAL ASSAULT              |\n",
      "|HUMAN TRAFFICKING                |\n",
      "|INTIMIDATION                     |\n",
      "|PROSTITUTION                     |\n",
      "|DECEPTIVE PRACTICE               |\n",
      "|CONCEALED CARRY LICENSE VIOLATION|\n",
      "|SEX OFFENSE                      |\n",
      "|CRIMINAL DAMAGE                  |\n",
      "|NARCOTICS                        |\n",
      "|NON-CRIMINAL                     |\n",
      "|KIDNAPPING                       |\n",
      "|BURGLARY                         |\n",
      "|WEAPONS VIOLATION                |\n",
      "|OTHER NARCOTIC VIOLATION         |\n",
      "|INTERFERENCE WITH PUBLIC OFFICER |\n",
      "+---------------------------------+\n",
      "\n"
     ]
    }
   ],
   "source": [
    "Chicago_df.select('PrimaryType').distinct().show(50,truncate=False)"
   ]
  },
  {
   "cell_type": "code",
   "execution_count": 14,
   "id": "ec0fd1af",
   "metadata": {},
   "outputs": [],
   "source": [
    "Chicago_df = Chicago_df.replace(['CRIMINAL SEXUAL ASSAULT','OBSCENITY','CRIM SEXUAL ASSAULT','HUMAN TRAFFICKING','SEX OFFENSE','PROSTITUTION'],'SEXUALOFFENSE','PrimaryType')\n",
    "Chicago_df = Chicago_df.replace(['MOTOR VEHICLE THEFT','ROBBERY','THEFT','BURGLARY'],'THEFT','PrimaryType') \n",
    "Chicago_df = Chicago_df.replace(['PUBLIC PEACE VIOLATION','INTERFERENCE WITH PUBLIC OFFICER','PUBLIC INDECENCY'],'PUBLICDISASTER','PrimaryType')\n",
    "Chicago_df = Chicago_df.replace(['NARCOTICS','OTHER NARCOTIC VIOLATION'],'NARCOTICS','PrimaryType') "
   ]
  },
  {
   "cell_type": "code",
   "execution_count": 15,
   "id": "85da8437",
   "metadata": {},
   "outputs": [
    {
     "name": "stderr",
     "output_type": "stream",
     "text": [
      "22/10/20 19:25:42 WARN CSVHeaderChecker: CSV header does not conform to the schema.\n",
      " Header: Primary Type\n",
      " Schema: PrimaryType\n",
      "Expected: PrimaryType but found: Primary Type\n",
      "CSV file: file:///Users/vinaykota/Downloads/Crimes_-_2001_to_Present.csv\n",
      "[Stage 24:==========================>                             (36 + 8) / 75]\r"
     ]
    },
    {
     "name": "stdout",
     "output_type": "stream",
     "text": [
      "+---------------------------------+\n",
      "|PrimaryType                      |\n",
      "+---------------------------------+\n",
      "|OFFENSE INVOLVING CHILDREN       |\n",
      "|DOMESTIC VIOLENCE                |\n",
      "|GAMBLING                         |\n",
      "|CRIMINAL TRESPASS                |\n",
      "|ASSAULT                          |\n",
      "|LIQUOR LAW VIOLATION             |\n",
      "|THEFT                            |\n",
      "|BATTERY                          |\n",
      "|HOMICIDE                         |\n",
      "|RITUALISM                        |\n",
      "|INTIMIDATION                     |\n",
      "|SEXUALOFFENSE                    |\n",
      "|DECEPTIVE PRACTICE               |\n",
      "|CONCEALED CARRY LICENSE VIOLATION|\n",
      "|CRIMINAL DAMAGE                  |\n",
      "|NARCOTICS                        |\n",
      "|NON-CRIMINAL                     |\n",
      "|PUBLICDISASTER                   |\n",
      "|KIDNAPPING                       |\n",
      "|WEAPONS VIOLATION                |\n",
      "+---------------------------------+\n",
      "\n"
     ]
    },
    {
     "name": "stderr",
     "output_type": "stream",
     "text": [
      "\r",
      "                                                                                \r"
     ]
    }
   ],
   "source": [
    "Chicago_df.select('PrimaryType').distinct().show(50,truncate=False)"
   ]
  },
  {
   "cell_type": "markdown",
   "id": "af76e190",
   "metadata": {},
   "source": [
    "#### Plotting year-wise trend of the crime for last ten years"
   ]
  },
  {
   "cell_type": "code",
   "execution_count": 16,
   "id": "82a10a32",
   "metadata": {},
   "outputs": [],
   "source": [
    "import matplotlib.pyplot as plt"
   ]
  },
  {
   "cell_type": "code",
   "execution_count": 17,
   "id": "2659400d",
   "metadata": {},
   "outputs": [
    {
     "name": "stderr",
     "output_type": "stream",
     "text": [
      "22/10/20 19:25:57 WARN CSVHeaderChecker: CSV header does not conform to the schema.\n",
      " Header: Primary Type, Year\n",
      " Schema: PrimaryType, Year\n",
      "Expected: PrimaryType but found: Primary Type\n",
      "CSV file: file:///Users/vinaykota/Downloads/Crimes_-_2001_to_Present.csv\n",
      "                                                                                \r"
     ]
    }
   ],
   "source": [
    "Chicagocrimes_last_10_years=Chicago_df.where(\"Year>2012\")\n",
    "Year=[]\n",
    "count=[]\n",
    "for i, j in Chicagocrimes_last_10_years.groupBy('Year').count().collect():\n",
    "    Year.append(i)\n",
    "    count.append(j)"
   ]
  },
  {
   "cell_type": "code",
   "execution_count": 18,
   "id": "b757b4d3",
   "metadata": {},
   "outputs": [
    {
     "data": {
      "image/png": "[encoded data removed]",
      "text/plain": [
       "<Figure size 1440x576 with 1 Axes>"
      ]
     },
     "metadata": {
      "needs_background": "light"
     },
     "output_type": "display_data"
    }
   ],
   "source": [
    "fig = plt.figure(figsize =(20, 8))\n",
    "plt.bar(Year, count, color ='maroon',width = 0.4) \n",
    "plt.xlabel(\"Year\")\n",
    "plt.ylabel(\"Count\")\n",
    "plt.title(\"Year-wise trend of the crime for last ten years\")\n",
    "plt.show()"
   ]
  },
  {
   "cell_type": "code",
   "execution_count": 19,
   "id": "c18a3d62",
   "metadata": {},
   "outputs": [],
   "source": [
    "from pyspark.sql.functions import col,hour"
   ]
  },
  {
   "cell_type": "code",
   "execution_count": 20,
   "id": "d86e0ea3",
   "metadata": {},
   "outputs": [],
   "source": [
    "Chicago_df1=Chicago_df1.withColumn(\"hour\", hour(col(\"Date\")))"
   ]
  },
  {
   "cell_type": "code",
   "execution_count": 21,
   "id": "8e8edfd5",
   "metadata": {},
   "outputs": [
    {
     "name": "stderr",
     "output_type": "stream",
     "text": [
      "                                                                                \r"
     ]
    }
   ],
   "source": [
    "Hours=[]\n",
    "count2=[]\n",
    "for i, j in Chicago_df1.groupBy('hour').count().collect():\n",
    "    Hours.append(i)\n",
    "    count2.append(j)"
   ]
  },
  {
   "cell_type": "code",
   "execution_count": 22,
   "id": "5e8fe65d",
   "metadata": {},
   "outputs": [
    {
     "data": {
      "image/png": "[encoded data removed]",
      "text/plain": [
       "<Figure size 1440x576 with 1 Axes>"
      ]
     },
     "metadata": {
      "needs_background": "light"
     },
     "output_type": "display_data"
    }
   ],
   "source": [
    "fig = plt.figure(figsize =(20, 8))\n",
    "plt.bar(Hours, count2, color ='maroon',width = 0.4) \n",
    "plt.xlabel(\"Hour\")\n",
    "plt.ylabel(\"Count\")\n",
    "plt.title(\"24-hour crime data\")\n",
    "plt.show()"
   ]
  },
  {
   "cell_type": "markdown",
   "id": "83ada593",
   "metadata": {},
   "source": [
    "#### Plotting top ten crimes"
   ]
  },
  {
   "cell_type": "code",
   "execution_count": 23,
   "id": "b30bf0d9",
   "metadata": {},
   "outputs": [
    {
     "name": "stderr",
     "output_type": "stream",
     "text": [
      "22/10/20 19:29:30 WARN CSVHeaderChecker: CSV header does not conform to the schema.\n",
      " Header: Primary Type\n",
      " Schema: PrimaryType\n",
      "Expected: PrimaryType but found: Primary Type\n",
      "CSV file: file:///Users/vinaykota/Downloads/Crimes_-_2001_to_Present.csv\n",
      "                                                                                \r"
     ]
    }
   ],
   "source": [
    "Crime_types=[]\n",
    "count1=[]\n",
    "for i, j in Chicago_df.groupBy('PrimaryType').count().collect():\n",
    "    Crime_types.append(i)\n",
    "    count1.append(j)"
   ]
  },
  {
   "cell_type": "code",
   "execution_count": 24,
   "id": "204491df",
   "metadata": {},
   "outputs": [],
   "source": [
    "import pandas"
   ]
  },
  {
   "cell_type": "code",
   "execution_count": 25,
   "id": "04d9e3fd",
   "metadata": {},
   "outputs": [
    {
     "data": {
      "text/plain": [
       "<AxesSubplot:title={'center':'Top ten crimes'}, xlabel='Crime_type', ylabel='count'>"
      ]
     },
     "execution_count": 25,
     "metadata": {},
     "output_type": "execute_result"
    },
    {
     "data": {
      "image/png": "[encoded data removed]",
      "text/plain": [
       "<Figure size 1440x576 with 1 Axes>"
      ]
     },
     "metadata": {
      "needs_background": "light"
     },
     "output_type": "display_data"
    }
   ],
   "source": [
    "pandas.DataFrame([Crime_types,count1]).T.sort_values(1).set_index(0).tail(10).plot(kind='bar',\n",
    "                                                  figsize=(20,8),\n",
    "                                                  title = 'Top ten crimes',\n",
    "                                                  xlabel='Crime_type',\n",
    "                                                  ylabel='count',\n",
    "                                                    )"
   ]
  },
  {
   "cell_type": "code",
   "execution_count": null,
   "id": "e9d2aac1",
   "metadata": {},
   "outputs": [],
   "source": []
  }
 ],
 "metadata": {
  "kernelspec": {
   "display_name": "Python 3 (ipykernel)",
   "language": "python",
   "name": "python3"
  },
  "language_info": {
   "codemirror_mode": {
    "name": "ipython",
    "version": 3
   },
   "file_extension": ".py",
   "mimetype": "text/x-python",
   "name": "python",
   "nbconvert_exporter": "python",
   "pygments_lexer": "ipython3",
   "version": "3.9.7"
  }
 },
 "nbformat": 4,
 "nbformat_minor": 5
}
